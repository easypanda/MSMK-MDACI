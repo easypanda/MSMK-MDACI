{
 "cells": [
  {
   "cell_type": "markdown",
   "metadata": {},
   "source": [
    "#Ejercicio 2\n",
    "• Primer programa en Python!\n",
    "• Vamos a escribir un programa que imprima la frase «Hola\n",
    "Python!» mediante la función print()"
   ]
  },
  {
   "cell_type": "code",
   "execution_count": 1,
   "metadata": {},
   "outputs": [
    {
     "name": "stdout",
     "output_type": "stream",
     "text": [
      "Hola Python!\n"
     ]
    }
   ],
   "source": [
    "print(\"Hola Python!\")"
   ]
  },
  {
   "cell_type": "markdown",
   "metadata": {},
   "source": [
    "#Ejercicio 3\n",
    "• Almacena la frase “Hola Python” en una variable e imprime la\n",
    "variable\n",
    "• Cambia el valor de la variable a “Me gusta Python”, y vuelve a\n",
    "imprimir la variable"
   ]
  },
  {
   "cell_type": "code",
   "execution_count": 2,
   "metadata": {},
   "outputs": [
    {
     "name": "stdout",
     "output_type": "stream",
     "text": [
      "Hola Python\n",
      "Me gusta Python\n"
     ]
    }
   ],
   "source": [
    "message = \"Hola Python\"\n",
    "print(message)\n",
    "message = \"Me gusta Python\"\n",
    "print(message)"
   ]
  },
  {
   "cell_type": "markdown",
   "metadata": {},
   "source": [
    "#Ejercicio 4\n",
    "• Almacena el nombre de una persona en una variable e\n",
    "imprime un mensaje personalizado\n",
    "• Imprime el nombre en mayúsculas y minúsculas"
   ]
  },
  {
   "cell_type": "code",
   "execution_count": 3,
   "metadata": {},
   "outputs": [
    {
     "name": "stdout",
     "output_type": "stream",
     "text": [
      "Que tengas un buen día Hadley Wickham\n",
      "Que tengas un buen día HADLEY WICKHAM\n",
      "Que tengas un buen día hadley wickham\n"
     ]
    }
   ],
   "source": [
    "message = \"Que tengas un buen día\"\n",
    "name = \"Hadley Wickham\"\n",
    "print(message + \" \" + name)\n",
    "print(message + \" \" + name.upper())\n",
    "print(message + \" \" + name.lower())"
   ]
  },
  {
   "cell_type": "markdown",
   "metadata": {},
   "source": [
    "#Ejercicio 5\n",
    "• Encuentra una frase famosa e imprímela junto al nombre de su\n",
    "autor, por ejemplo:\n",
    "– Albert Einstein una vez dijo, “Una persona que\n",
    "nunca ha cometido un error nunca ha probado\n",
    "algo nuevo”\n",
    "• Repite el ejercicio almacenando el autor de la frase y la propia\n",
    "frase en variables"
   ]
  },
  {
   "cell_type": "code",
   "execution_count": 4,
   "metadata": {},
   "outputs": [
    {
     "name": "stdout",
     "output_type": "stream",
     "text": [
      "Albert Einstein una vez dijo, “Una persona que nunca ha cometido un error nunca ha probado algo nuevo”\n",
      "Albert Einstein una vez dijo, “Una persona que nunca ha cometido un error nunca ha probado algo nuevo”\n"
     ]
    }
   ],
   "source": [
    "frasefamosa = 'Albert Einstein una vez dijo, “Una persona que nunca ha cometido un error nunca ha probado algo nuevo”'\n",
    "print(frasefamosa)\n",
    "name = \"Albert Einstein\"\n",
    "unavezdijo = \"una vez dijo,\"\n",
    "frase = '“Una persona que nunca ha cometido un error nunca ha probado algo nuevo”'\n",
    "print(name + \" \" + unavezdijo + \" \" + frase)"
   ]
  },
  {
   "cell_type": "markdown",
   "metadata": {},
   "source": [
    "#Ejercicio 6 \n",
    "• Escribe una suma, una resta, una multiplicación y una división\n",
    "cuyo resultado sea 8\n",
    "• Utiliza la función print() para imprimir una línea por cada\n",
    "operación"
   ]
  },
  {
   "cell_type": "code",
   "execution_count": 5,
   "metadata": {},
   "outputs": [
    {
     "name": "stdout",
     "output_type": "stream",
     "text": [
      "suma = 8\n",
      "resta = 8\n",
      "multiplicación = 8\n",
      "división = 8\n"
     ]
    }
   ],
   "source": [
    "suma= 4+4\n",
    "resta = 9-1\n",
    "mutiplicacion = 2*4\n",
    "division = 16/2\n",
    "print(\"suma = \" + str(suma))\n",
    "print(\"resta = \" + str(resta))\n",
    "print(\"multiplicación = \" + str(mutiplicacion))\n",
    "print(\"división = \" + str(division))"
   ]
  },
  {
   "cell_type": "markdown",
   "metadata": {},
   "source": [
    "#Ejercicio 7 • Crear una lista llamada “nombres” y almacena los nombres de\n",
    "varias personas y imprímelos\n",
    "• Con la lista de nombres crea un mensaje personalizado para\n",
    "cada uno de ellos (un mensaje fijo donde se añade el nombre\n",
    "de la persona)"
   ]
  },
  {
   "cell_type": "code",
   "execution_count": 6,
   "metadata": {},
   "outputs": [
    {
     "name": "stdout",
     "output_type": "stream",
     "text": [
      "Buenos días Antonio\n",
      "Buenos días Jose\n",
      "Buenos días Juan\n",
      "\n",
      "\n",
      "Buenos días Antonio\n",
      "Buenos días Jose\n",
      "Buenos días Juan\n"
     ]
    }
   ],
   "source": [
    "#lista de nombres\n",
    "nombres = ['Antonio','Jose','Juan']\n",
    "#frase\n",
    "frase = \"Buenos días \"\n",
    "#Print con numeros positivos\n",
    "print(frase + nombres[0])\n",
    "print(frase + nombres[1])\n",
    "print(frase + nombres[2])\n",
    "#Print con numeros negativos\n",
    "print(\"\\n\")\n",
    "print(frase + nombres[-3])\n",
    "print(frase + nombres[-2])\n",
    "print(frase + nombres[-1])"
   ]
  },
  {
   "cell_type": "markdown",
   "metadata": {},
   "source": [
    "#Ejercicio 8• Crea una lista con 3 personas a las que invitarías a cenar a tu\n",
    "casa\n",
    "• Uno de tus invitados no puede venir, por lo que tienes que\n",
    "pensar en alguien que lo sustituya\n",
    "• Añade a un nuevo invitado al principio de la lista\n",
    "• Añade a un nuevo invitado al final de la lista\n",
    "• Añade a un nuevo invitado en medio de la lista\n",
    "• Saca al último invitado de la lista e imprime un mensaje\n",
    "personalizado disculpándote\n",
    "• Por último vacía la lista de invitados e imprímela para\n",
    "asegurarte de que está vacía"
   ]
  },
  {
   "cell_type": "code",
   "execution_count": 7,
   "metadata": {},
   "outputs": [
    {
     "name": "stdout",
     "output_type": "stream",
     "text": [
      "['Juan', 'Jose', 'Jesus']\n",
      "['Angel', 'Jose', 'Jesus']\n",
      "['Roberto', 'Angel', 'Jose', 'Jesus']\n",
      "['Roberto', 'Angel', 'Jose', 'Jesus', 'Mariano']\n",
      "['Roberto', 'Angel', 'Federico', 'Jose', 'Jesus', 'Mariano']\n",
      "Lo siento mucho Mariano\n",
      "[]\n"
     ]
    }
   ],
   "source": [
    "#invitados\n",
    "lista = ['Juan','Jose','Jesus']\n",
    "print(lista)\n",
    "\n",
    "#Sustituya\n",
    "lista[0] = 'Angel'\n",
    "print(lista)\n",
    "\n",
    "#Nuevo invitado al principio de la lista\n",
    "lista.insert(0,'Roberto')\n",
    "print(lista)\n",
    "\n",
    "#Nuevo invitado al final de la lista\n",
    "lista.insert(len(lista),'Mariano')\n",
    "print(lista)\n",
    "\n",
    "#Nuevo invitado medio de la lista\n",
    "lista.insert(len(lista)/2,'Federico')\n",
    "print(lista)\n",
    "\n",
    "#Sacar el ultimo y mesaje personalizado\n",
    "popped_lista = lista.pop()\n",
    "print(\"Lo siento mucho \" + popped_lista)\n",
    "\n",
    "#Vacia la lista\n",
    "lista = []\n",
    "print(lista)"
   ]
  },
  {
   "cell_type": "markdown",
   "metadata": {},
   "source": [
    "#Ejercicio 9• Piensa en 5 lugares que te gustaría visitar\n",
    "• Almacena esos lugares en una lista, de forma que no estén\n",
    "ordenados alfabéticamente\n",
    "• Imprime la lista ordenada alfabéticamente\n",
    "• Imprime la lista con su orden original\n",
    "• Imprime la lista en orden inverso\n",
    "• Ordena la lista de forma descendente e imprimela"
   ]
  },
  {
   "cell_type": "code",
   "execution_count": 8,
   "metadata": {},
   "outputs": [
    {
     "name": "stdout",
     "output_type": "stream",
     "text": [
      "['New York', 'Roma', 'Tokyo', 'Paris', 'Londres']\n",
      "['Londres', 'New York', 'Paris', 'Roma', 'Tokyo']\n",
      "['New York', 'Roma', 'Tokyo', 'Paris', 'Londres']\n",
      "['Londres', 'Paris', 'Tokyo', 'Roma', 'New York']\n",
      "['Tokyo', 'Roma', 'Paris', 'New York', 'Londres']\n"
     ]
    }
   ],
   "source": [
    "#5 lugares\n",
    "lugares = ['New York','Roma','Tokyo','Paris','Londres']\n",
    "print(lugares)\n",
    "\n",
    "#lista ordenada alfabéticamente\n",
    "print(sorted(lugares))\n",
    "\n",
    "#lista la con su orden original\n",
    "print(lugares)\n",
    "\n",
    "#Lista en orden inverso\n",
    "lugares.reverse()\n",
    "print(lugares)\n",
    "\n",
    "#Forma descendente\n",
    "lugares.sort(reverse=True)\n",
    "print(lugares)"
   ]
  },
  {
   "cell_type": "markdown",
   "metadata": {},
   "source": [
    "#Ejercicio 10• Piensa en 3 ingredientes que te gusta comer en una pizza\n",
    "• Crea una lista con ellos y por cada ingrediente imprime la frase\n",
    "“Me gusta la pizza con ...”\n",
    "• Al final imprime la frase ”Si. Me gusta la pizza!"
   ]
  },
  {
   "cell_type": "code",
   "execution_count": 9,
   "metadata": {},
   "outputs": [
    {
     "name": "stdout",
     "output_type": "stream",
     "text": [
      "Me gusta la pizza con...Trufa\n",
      "Me gusta la pizza con...Mortadela\n",
      "Me gusta la pizza con...Rucula\n",
      "Si.¡Me gusta la pizza!\n"
     ]
    }
   ],
   "source": [
    "#Lista de pizzas\n",
    "pizzas = ['Trufa','Mortadela','Rucula']\n",
    "\n",
    "#Bucle for each pizza\n",
    "for pizza in pizzas:\n",
    "    print(\"Me gusta la pizza con...\" + pizza.title())\n",
    "\n",
    "#Final print\n",
    "print(\"Si.¡Me gusta la pizza!\")"
   ]
  },
  {
   "cell_type": "markdown",
   "metadata": {},
   "source": [
    "#Ejercicio 11• Crea una lista de números que contenga los cuadrados del\n",
    "rango del 1 al 10"
   ]
  },
  {
   "cell_type": "code",
   "execution_count": 68,
   "metadata": {},
   "outputs": [
    {
     "name": "stdout",
     "output_type": "stream",
     "text": [
      "[1, 4, 9, 16, 25, 36, 49, 64, 81, 100]\n"
     ]
    }
   ],
   "source": [
    "lista=[]\n",
    "for i in range(1,11):\n",
    "    lista.append(i**2)\n",
    "print(lista)"
   ]
  },
  {
   "cell_type": "markdown",
   "metadata": {},
   "source": [
    "#Ejercicio 12•Utilizando listas por comprensión : •Crea una lista de números del 1 al 20 e imprímela •Crea una lista de 1 millón de números y sumala •Mediante la función range(), crea una lista de números del 1 al 20, pero sólo con números impares • Haz una lista de los múltiplos de 3, del 3 al 30"
   ]
  },
  {
   "cell_type": "code",
   "execution_count": 15,
   "metadata": {},
   "outputs": [
    {
     "name": "stdout",
     "output_type": "stream",
     "text": [
      "[1, 2, 3, 4, 5, 6, 7, 8, 9, 10, 11, 12, 13, 14, 15, 16, 17, 18, 19, 20]\n",
      "5000050000\n",
      "[1, 3, 5, 7, 9, 11, 13, 15, 17, 19]\n",
      "[3, 6, 9, 12, 15, 18, 21, 24, 27, 30]\n"
     ]
    }
   ],
   "source": [
    "#Crea una lista de números del 1 al 20 e imprímela\n",
    "lista = list(range(1,21))\n",
    "print(lista)\n",
    "\n",
    "#Crea una lista de 1 millón de números y sumala \n",
    "lista2 = list(range(1,100001))\n",
    "print(sum(lista2))\n",
    "\n",
    "#Mediante la función range(), crea una lista de números del 1 al 20, pero sólo con números impares\n",
    "lista3 = list(range(1,21,2))\n",
    "print(lista3)\n",
    "\n",
    "#Haz una lista de los múltiplos de 3, del 3 al 30\n",
    "lista4 = [value * 3 for value in range(1,11)]\n",
    "print(lista4)"
   ]
  },
  {
   "cell_type": "markdown",
   "metadata": {},
   "source": [
    "#Ejercicio 13• Crea una lista con 5 elementos\n",
    "• Selecciona los 3 primeros elementos de la lista, los 3 últimos y\n",
    "los 3 de en medio.\n",
    "• Crea una nueva lista con los 2 primeros elementos y los 2\n",
    "últimos"
   ]
  },
  {
   "cell_type": "code",
   "execution_count": 64,
   "metadata": {},
   "outputs": [
    {
     "name": "stdout",
     "output_type": "stream",
     "text": [
      "[0, 1, 2, 3, 4]\n",
      "[0, 1, 2]\n",
      "[2, 3, 4]\n",
      "[1, 2, 3]\n",
      "[0, 1, 3, 4]\n"
     ]
    }
   ],
   "source": [
    "### Lista con 5 elementos\n",
    "lista = [0,1,2,3,4]\n",
    "print(lista)\n",
    "\n",
    "#Selecciona los 3 primeros elementos de la lista, los 3 últimos y los 3 de en medio\n",
    "print(lista[:3])\n",
    "print(lista[-3:])\n",
    "print(lista[(len(lista)/2)-1:len(lista)/2+2])\n",
    "\n",
    "#Crea una nueva lista con los 2 primeros elementos y los 2 últimos\n",
    "lista2 = lista[:2] + lista[-2:]\n",
    "print(lista2)"
   ]
  },
  {
   "cell_type": "markdown",
   "metadata": {},
   "source": [
    "#Ejercicio 14•Un restaurante de tipo buffet ofrece 5 comidas básicas. Piensa\n",
    "en 5 comidas y almacénalas en una tupla\n",
    "• Utiliza un bucle for para imprimirlas\n",
    "• Trata de modificar una de ellas y comprueba que no es posible\n",
    "hacerlo\n",
    "• Reemplaza 2 de las comida básicas por unas diferentes,\n",
    "reescribiendo la tupla"
   ]
  },
  {
   "cell_type": "code",
   "execution_count": 66,
   "metadata": {},
   "outputs": [
    {
     "name": "stdout",
     "output_type": "stream",
     "text": [
      "('salmorejo', 'flamenquin', 'rabo de toro', 'gazpacho', 'alcachofas')\n",
      "salmorejo\n",
      "flamenquin\n",
      "rabo de toro\n",
      "gazpacho\n",
      "alcachofas\n",
      "('flamenquin', 'rabo de toro', 'gazpacho', 'queso de zuheros', 'pastel cordobes')\n"
     ]
    }
   ],
   "source": [
    "#Piensa en 5 comidas y almacénalas en una tupla\n",
    "comidas = ('salmorejo','flamenquin','rabo de toro','gazpacho','alcachofas')\n",
    "print(comidas)\n",
    "\n",
    "#Utiliza un bucle for para imprimirlas\n",
    "for comida in comidas:\n",
    "    print(comida)\n",
    "\n",
    "#Trata de modificar una de ellas y comprueba que no es posible hacerlo\n",
    "#comida_pop = comidas.pop()\n",
    "#print(comida_pop)\n",
    "\n",
    "#Reemplaza 2 de las comida básicas por unas diferentes, reescribiendo la tupla\n",
    "comidas = (comidas[1],comidas[2],comidas[3],'queso de zuheros','pastel cordobes')\n",
    "print(comidas)"
   ]
  },
  {
   "cell_type": "markdown",
   "metadata": {},
   "source": [
    "#Ejercicio 15• Crea 2 variables de tipo cadena y una lista de cadenas, y\n",
    "mediante la función print():\n",
    "• Comprueba si son iguales\n",
    "• Comprueba si son distintas\n",
    "• Comprueba si son iguales, pero asegurándote de que ambos\n",
    "valores están minúsculas mediante la función lower()\n",
    "• Comprueba si una de las dos variables está en la lista\n",
    "• Comprueba si la cadena “Hola” no está en una lista\n",
    "• Utiliza el operador lógico and para unir 2 condiciones\n",
    "cualquiera"
   ]
  },
  {
   "cell_type": "code",
   "execution_count": 24,
   "metadata": {},
   "outputs": [
    {
     "name": "stdout",
     "output_type": "stream",
     "text": [
      "Casa\n",
      "Hola\n",
      "['Casa', 'Hola']\n",
      "False\n",
      "True\n",
      "False\n",
      "True\n",
      "True\n",
      "True\n"
     ]
    }
   ],
   "source": [
    "#Crea 2 variables de tipo cadena y una lista de cadenas, y mediante la función print(): \n",
    "cadena1 = 'Casa'\n",
    "cadena2 = 'Hola'\n",
    "print(cadena1)\n",
    "print(cadena2)\n",
    "lista = [cadena1,cadena2]\n",
    "print(lista)\n",
    "#Comprueba si son iguales\n",
    "print(cadena1 == cadena2 == lista)\n",
    "#Comprueba si son distintas\n",
    "print(cadena1 != cadena2 != lista)\n",
    "#Comprueba si son iguales, pero asegurándote de que ambos valores están minúsculas mediante la función lower()\n",
    "print (cadena1.lower() == cadena2.lower())\n",
    "#Comprueba si una de las dos variables está en la lista\n",
    "print( 'Casa' in lista or 'Hola' in lista)\n",
    "#Comprueba si la cadena “Hola” no está en una lista\n",
    "print ( 'Hola' in lista)\n",
    "#Utiliza el operador lógico and para unir 2 condiciones cualquiera\n",
    "print( 'Casa' in lista and 'Hola' in lista)"
   ]
  },
  {
   "cell_type": "markdown",
   "metadata": {},
   "source": [
    "Ejercicio 16\n",
    "• Escribe una lista con 5 nombre de usuarios\n",
    "• Recorre la lista y escribe un mensaje de bienvenida a cada\n",
    "usuario.\n",
    "• Si el usuario se llama ‘admin’ escribe un mensaje especial,\n",
    "distinto al resto\n",
    "• Escribe un mensaje de error en el caso de que la lista esté\n",
    "vacia\n",
    "• Escribe otra lista distinta de usuarios y recórrela para verificar\n",
    "si alguno de ellos está en la lista original"
   ]
  },
  {
   "cell_type": "code",
   "execution_count": 51,
   "metadata": {
    "scrolled": true
   },
   "outputs": [
    {
     "name": "stdout",
     "output_type": "stream",
     "text": [
      "Bienvenido admin\n",
      "Bienvenido daniel\n",
      "Bienvenido pedro\n",
      "Bienvenido juan\n",
      "Bienvenido alicia\n",
      "Santo y seña admin\n",
      "Bienvenido daniel\n",
      "Bienvenido pedro\n",
      "Bienvenido juan\n",
      "Bienvenido alicia\n",
      "Santo y seña admin\n",
      "Bienvenido daniel\n",
      "Bienvenido pedro\n",
      "Bienvenido juan\n",
      "Bienvenido alicia\n",
      "alicia esta en la lista\n",
      "pilar NO esta en la lista\n",
      "claudia NO esta en la lista\n",
      "lola NO esta en la lista\n",
      "aimar NO esta en la lista\n"
     ]
    }
   ],
   "source": [
    "#Escribe una lista con 5 nombre de usuarios\n",
    "lista = ['admin','daniel','pedro','juan','alicia']\n",
    "#Recorre la lista y escribe un mensaje de bienvenida a cada usuario.\n",
    "for usario in lista:\n",
    "    print ('Bienvenido' + ' ' + usario)\n",
    "#Si el usuario se llama ‘admin’ escribe un mensaje especial, distinto al resto \n",
    "for usario in lista:\n",
    "    if usario == 'admin':\n",
    "        print ('Santo y seña' + ' ' + usario)\n",
    "    else: \n",
    "        print ('Bienvenido' + ' ' + usario)\n",
    "#Escribe un mensaje de error en el caso de que la lista esté vacia\n",
    "for usario in lista:\n",
    "    if usario == 'admin':\n",
    "        print ('Santo y seña' + ' ' + usario)\n",
    "    elif usario in lista: \n",
    "        print ('Bienvenido' + ' ' + usario)\n",
    "    else:\n",
    "        print ('Error 404')\n",
    "#Escribe otra lista distinta de usuarios y recórrela para verificar si alguno de ellos está en la lista original\n",
    "lista2 = ['alicia','pilar','claudia','lola','aimar']\n",
    "for usario in lista2:\n",
    "    if usario in lista:\n",
    "        print (usario + ' ' + 'esta en la lista')\n",
    "    else:\n",
    "        print (usario + ' ' + 'NO esta en la lista')"
   ]
  },
  {
   "cell_type": "markdown",
   "metadata": {},
   "source": [
    "Ejercicio 17\n",
    "• Utiliza un diccionario para guardar información de una\n",
    "persona, su nombre, sus apellidos, su edad y el país donde vive\n",
    "• Imprime los distintos valores\n",
    "• Añade un nueva clave con la dirección de su casa\n",
    "• Elimina la clave edad del diccionario\n",
    "• Modifica el valor asociado a la clave con el nombre"
   ]
  },
  {
   "cell_type": "code",
   "execution_count": 75,
   "metadata": {},
   "outputs": [
    {
     "name": "stdout",
     "output_type": "stream",
     "text": [
      "pais: españa\n",
      "nombre: antonio\n",
      "edad: 27\n",
      "apellido: alabanda\n",
      "antonio\n",
      "alabanda\n",
      "27\n",
      "españa\n",
      "Sagunto\n",
      "{'pais': 'españa', 'nombre': 'antonio', 'apellido': 'alabanda', 'direccion': 'Sagunto'}\n",
      "{'pais': 'españa', 'nombre': 'miguel', 'apellido': 'alabanda', 'direccion': 'Sagunto'}\n"
     ]
    }
   ],
   "source": [
    "#Utiliza un diccionario para guardar información de una persona, su nombre, sus apellidos, su edad y el país donde vive\n",
    "persona_0 = {'pais': 'españa', 'nombre':'antonio', 'edad': '27','apellido' : 'alabanda'}\n",
    "#Imprime los distintos valores\n",
    "print('pais: ' + persona_0['pais'])\n",
    "print('nombre: ' + persona_0['nombre'])\n",
    "print('edad: ' + persona_0['edad'])\n",
    "print('apellido: ' + persona_0['apellido'])\n",
    "#Añade un nueva clave con la dirección de su casa\n",
    "persona_0['direccion'] = 'Sagunto'\n",
    "print(persona_0['nombre'])\n",
    "print(persona_0['apellido'])\n",
    "print(persona_0['edad'])\n",
    "print(persona_0['pais'])\n",
    "print(persona_0['direccion'])\n",
    "#Elimina la clave edad del diccionario\n",
    "del persona_0['edad']\n",
    "#Modifica el valor asociado a la clave con el nombre\n",
    "print(persona_0)\n",
    "persona_0['nombre'] = 'miguel'\n",
    "print(persona_0)"
   ]
  },
  {
   "cell_type": "markdown",
   "metadata": {},
   "source": [
    "Ejercicio 18\n",
    "• Crea un diccionario que contenga una serie de nombres de ríos\n",
    "como clave y el país de cada río como valor\n",
    "• Por cada río, imprime una frase del tipo “El río Nilo recorre\n",
    "Egipto”\n",
    "• Imprime los distintos valores del diccionario, asegurándote de\n",
    "que no se repiten"
   ]
  },
  {
   "cell_type": "code",
   "execution_count": 86,
   "metadata": {},
   "outputs": [
    {
     "name": "stdout",
     "output_type": "stream",
     "text": [
      "{'Amazonas': 'Brasil', 'Nilo': 'Egipto', 'Ebro': 'España', 'Guadalquivir': 'España'}\n",
      "El rio Amazonas recorre Brasil\n",
      "El rio Nilo recorre Egipto\n",
      "El rio Ebro recorre España\n",
      "El rio Guadalquivir recorre España\n",
      "Existe(n) rio(s) en Brasil\n",
      "Existe(n) rio(s) en Egipto\n",
      "Existe(n) rio(s) en España\n"
     ]
    }
   ],
   "source": [
    "#Crea un diccionario que contenga una serie de nombres de ríos como clave y el país de cada río como valor\n",
    "diccionario_0 = {\n",
    "    'Amazonas': 'Brasil',\n",
    "    'Nilo':'Egipto',\n",
    "    'Ebro': 'España',\n",
    "    'Guadalquivir' : 'España'}\n",
    "print(diccionario_0)\n",
    "#Por cada río, imprime una frase del tipo “El río Nilo recorre Egipto”\n",
    "for rio, pais in diccionario_0.items():\n",
    "    print('El rio ' + rio + ' recorre ' + pais)\n",
    "#Imprime los distintos valores del diccionario, asegurándote de que no se repiten\n",
    "for pais in sorted(set(diccionario_0.values())):\n",
    "    print ('Existe(n) rio(s) en ' + pais)"
   ]
  },
  {
   "cell_type": "markdown",
   "metadata": {},
   "source": [
    "Ejercicio 19\n",
    "• Crea un diccionario llamado ciudades, utilizando el nombre de\n",
    "la ciudad como clave\n",
    "• En el diccionario guarda información de cada ciudad,\n",
    "almacenando el país, la población aproximada, y otro campo\n",
    "con algún otro hecho interesante sobre la ciudad\n",
    "• Recorre el diccionario imprimiendo cada ciudad y su respectiva\n",
    "información"
   ]
  },
  {
   "cell_type": "code",
   "execution_count": 1,
   "metadata": {},
   "outputs": [
    {
     "name": "stdout",
     "output_type": "stream",
     "text": [
      "Madrid\n",
      "Valdepeñas\n",
      "Cordoba\n",
      "\n",
      "Ciudad:Madrid\n",
      "\tPaís:España\n",
      "\tPoblacion:3165000\n",
      "\tTurismos:Plaza mayor\n",
      "\n",
      "Ciudad:Valdepeñas\n",
      "\tPaís:España\n",
      "\tPoblacion:30705\n",
      "\tTurismos:Bodegas\n",
      "\n",
      "Ciudad:Cordoba\n",
      "\tPaís:España\n",
      "\tPoblacion:328773\n",
      "\tTurismos:Mezquita\n"
     ]
    }
   ],
   "source": [
    "#Crea un diccionario llamado ciudades, utilizando el nombre de la ciudad como clave\n",
    "ciudades = {\n",
    "    'Ciudad1':{\n",
    "        'Name' : 'Madrid'\n",
    "    },\n",
    "    'Ciudad2':{\n",
    "        'Name' : 'Valdepeñas'\n",
    "    },\n",
    "    'Ciudad3':{\n",
    "        'Name' : 'Cordoba'\n",
    "    }\n",
    "}\n",
    "print(ciudades['Ciudad1']['Name'])\n",
    "print(ciudades['Ciudad2']['Name'])\n",
    "print(ciudades['Ciudad3']['Name'])\n",
    "#En el diccionario guarda información de cada ciudad, almacenando el país, la población aproximada, y otro campo con algún otro hecho interesante sobre la ciudad\n",
    "ciudades = {\n",
    "    'Ciudad1':{\n",
    "        'Name' : 'Madrid',\n",
    "        'País' : 'España',\n",
    "        'Poblacion' : '3165000',\n",
    "        'Turismo': 'Plaza mayor',\n",
    "    },\n",
    "    'Ciudad2':{\n",
    "        'Name' : 'Valdepeñas',\n",
    "        'País' : 'España',\n",
    "        'Poblacion' : '30705',\n",
    "        'Turismo': 'Bodegas',\n",
    "    },\n",
    "    'Ciudad3':{\n",
    "        'Name' : 'Cordoba',\n",
    "        'País' : 'España',\n",
    "        'Poblacion' : '328773',\n",
    "        'Turismo': 'Mezquita',\n",
    "    }\n",
    "}\n",
    "#Recorre el diccionario imprimiendo cada ciudad y su respectiva información\n",
    "for ciudad,ciudad_info in ciudades.items():\n",
    "    name = ciudad_info['Name']\n",
    "    print(\"\\nCiudad:\" + name)\n",
    "    country = ciudad_info['País']\n",
    "    print(\"\\tPaís:\" + country)\n",
    "    populacion = ciudad_info['Poblacion']\n",
    "    print(\"\\tPoblacion:\" + populacion)\n",
    "    tourism = ciudad_info['Turismo']\n",
    "    print(\"\\tTurismos:\" + tourism)"
   ]
  },
  {
   "cell_type": "markdown",
   "metadata": {},
   "source": [
    "Ejercicio 20\n",
    "• Realiza un programa que determine si un número es par o\n",
    "impar\n",
    "• El programa debe de solicitar el número e imprimir el\n",
    "resultado"
   ]
  },
  {
   "cell_type": "code",
   "execution_count": 19,
   "metadata": {},
   "outputs": [
    {
     "name": "stdout",
     "output_type": "stream",
     "text": [
      "Introduce un numero, y te diré si es par o impar: 11\n",
      "El numero 11 no es par.\n"
     ]
    }
   ],
   "source": [
    "par = input(\"Introduce un numero, y te diré si es par o impar: \")\n",
    "par = int(par)\n",
    "if par % 2 == 0:\n",
    "    print(\"El numero \" + str(par) + \" es par.\")\n",
    "else:\n",
    "    print(\"El numero \" + str(par) + \" no es par.\")"
   ]
  },
  {
   "cell_type": "markdown",
   "metadata": {},
   "source": [
    "Ejercicio 21\n",
    "• Un cine tiene un precio distinto en función de la edad del\n",
    "cliente. Gratis para los menores de 12, 10€ para los menores\n",
    "de 18 años y 15€ para el resto.\n",
    "• Realiza un bucle para preguntar a los usuarios su edad, de\n",
    "forma que se pueda imprimir el coste de la entrada\n",
    "• Idea una forma controlada de finalizar el bucle\n",
    "• Imprime el total de ingresos sumando el precio de todas las\n",
    "entradas"
   ]
  },
  {
   "cell_type": "code",
   "execution_count": 7,
   "metadata": {},
   "outputs": [
    {
     "name": "stdout",
     "output_type": "stream",
     "text": [
      "¿Que edad tiene? 11\n",
      "El precio de su entrada es gratis\n",
      "¿Que edad tiene? 18\n",
      "El precio de su entrada es 10€\n",
      "¿Que edad tiene? 20\n",
      "El precio de su entrada es de 15€\n",
      "¿Que edad tiene? Salir\n",
      "El coste total es : 25€\n"
     ]
    }
   ],
   "source": [
    "Menos18=0\n",
    "Mayor18=0\n",
    "while True:\n",
    "    try:\n",
    "        edad = int(input(\"¿Que edad tiene? \"))\n",
    "    except:\n",
    "        break\n",
    "    if edad <=12:\n",
    "            print (\"El precio de su entrada es gratis\")\n",
    "    elif edad <= 18:\n",
    "            Menos18+=1\n",
    "            print (\"El precio de su entrada es 10€\")\n",
    "    else:\n",
    "            Mayor18+=1\n",
    "            print(\"El precio de su entrada es de 15€\")\n",
    "print(\"El coste total es : \" + str(Menos18*10 + Mayor18*15)+\"€\")"
   ]
  },
  {
   "cell_type": "markdown",
   "metadata": {},
   "source": [
    "Ejercicio 22\n",
    "• Crea una lista con 3 usuarios y otra lista vacía.\n",
    "• Mueve todos los elementos desde la lista de usuarios hacia la\n",
    "otra utilizando un bucle while"
   ]
  },
  {
   "cell_type": "code",
   "execution_count": 128,
   "metadata": {},
   "outputs": [
    {
     "name": "stdout",
     "output_type": "stream",
     "text": [
      "Verificando usario: Carlos\n",
      "Verificando usario: Benito\n",
      "Verificando usario: Antonio\n",
      "Los siguientes usarios han sido confirmados:\n",
      "['Carlos', 'Benito', 'Antonio']\n",
      "[]\n"
     ]
    }
   ],
   "source": [
    "lista1=[\"Carlos\",\"Benito\",\"Antonio\"]\n",
    "lista2=[]\n",
    "for usario in lista1:\n",
    "    print(\"Verificando usario: \" + usario)\n",
    "while True:\n",
    "    lista2=lista1[:]\n",
    "    del lista1[:]\n",
    "    print(\"Los siguientes usarios han sido confirmados:\")\n",
    "    print(lista2)\n",
    "    break"
   ]
  },
  {
   "cell_type": "markdown",
   "metadata": {},
   "source": [
    "Ejercicio 23\n",
    "• Crea una lista con los siguientes elementos: dog, cat, dog,\n",
    "goldfish, cat, rabit, cat\n",
    "• Elimina de la lista todos los elementos cuyo valor sea igual a\n",
    "’cat’"
   ]
  },
  {
   "cell_type": "code",
   "execution_count": 9,
   "metadata": {},
   "outputs": [
    {
     "name": "stdout",
     "output_type": "stream",
     "text": [
      "['dog', 'cat', 'dog', 'goldfish', 'cat', 'rabit', 'cat']\n",
      "['dog', 'dog', 'goldfish', 'cat', 'rabit', 'cat']\n"
     ]
    }
   ],
   "source": [
    "lista=[\"dog\",\"cat\",\"dog\",\"goldfish\",\"cat\",\"rabit\",\"cat\"]\n",
    "print(lista)\n",
    "while True:\n",
    "    lista.remove(\"cat\")\n",
    "    break\n",
    "print(lista)"
   ]
  },
  {
   "cell_type": "markdown",
   "metadata": {
    "collapsed": true
   },
   "source": [
    "Ejercicio 24\n",
    "• Escribe una función llamada favorite_book que acepte el título\n",
    "de un libro como parámetro\n",
    "• La función debe imprimir un mensaje utilizando el título\n",
    "suministrado como argumento\n",
    "• Escribe un comentario en la función me muestre la forma de\n",
    "utilizarla\n",
    "• Escribe el comando help con el nombre de la función para\n",
    "verificar que se muestra el comentario que has especificado en\n",
    "el punto anterior"
   ]
  },
  {
   "cell_type": "code",
   "execution_count": 13,
   "metadata": {},
   "outputs": [
    {
     "name": "stdout",
     "output_type": "stream",
     "text": [
      "Mi libro favorito es: Cinco horas con Mario\n",
      "Help on function favorite_book in module __main__:\n",
      "\n",
      "favorite_book(name)\n",
      "    Muestra el mombre de nuestro libro favorito\n",
      "\n"
     ]
    }
   ],
   "source": [
    "#Escribe una función llamada favorite_book que acepte el título de un libro como parámetro def favorite_book(name):\n",
    "def favorite_book(name):   \n",
    "    \"\"\" Muestra el mombre de nuestro libro favorito\"\"\"\n",
    "    print('Mi libro favorito es: ' + name)\n",
    "#La función debe imprimir un mensaje utilizando el título suministrado como argumento     \n",
    "favorite_book('Cinco horas con Mario')\n",
    "#Escribe el comando help con el nombre de la función para verificar que se muestra el comentario que has especificado en el punto anterior\n",
    "help(favorite_book)"
   ]
  },
  {
   "cell_type": "markdown",
   "metadata": {},
   "source": [
    "Ejercicio 25\n",
    "• Escribe una función llamada make_shirt() con un tamaño y un\n",
    "texto como parámetro\n",
    "• La función debe de imprimir un mensaje utilizando los 2\n",
    "argumentos\n",
    "• Llama a la función utilizando tanto los argumentos por valor\n",
    "como por posición\n",
    "• Incluye para el tamaño un valor por defecto"
   ]
  },
  {
   "cell_type": "code",
   "execution_count": 74,
   "metadata": {},
   "outputs": [
    {
     "name": "stdout",
     "output_type": "stream",
     "text": [
      "Ha encargado una camisa talla: 1 y cuello: Italiano\n",
      "Ha encargado una camisa talla: S y cuello: Ingles\n",
      "Ha encargado una camisa talla: L y cuello: Italiano\n",
      "Ha encargado una camisa talla: M y cuello: French\n"
     ]
    }
   ],
   "source": [
    "def make_shirt(size=\"S\",neck=\"Italiano\"):\n",
    "    \"\"\"Information on the shirt : Size type and neck type\"\"\"\n",
    "    print(\"Ha encargado una camisa talla: \" + size + \" y cuello: \" + neck)\n",
    "    \n",
    "make_shirt(\"1\",\"Italiano\")\n",
    "make_shirt(neck=\"Ingles\")\n",
    "make_shirt(size=\"L\")\n",
    "make_shirt(neck=\"French\", size=\"M\")"
   ]
  },
  {
   "cell_type": "markdown",
   "metadata": {},
   "source": [
    "Ejercicio 26\n",
    "• Escribe una función que reciba un nombre, un apellido y la\n",
    "edad y devuelva un diccionario con estos datos\n",
    "• Asegúrate de que la edad es opcional\n",
    "– Los parámetros opcionales siempre se tienen que colocar en último\n",
    "lugar"
   ]
  },
  {
   "cell_type": "code",
   "execution_count": 127,
   "metadata": {},
   "outputs": [
    {
     "name": "stdout",
     "output_type": "stream",
     "text": [
      "{'first': 'Juan', 'last': 'Tamariz'}\n",
      "{'first': 'Pedro', 'last': 'Lopez', 'age': 28}\n"
     ]
    }
   ],
   "source": [
    "def build_person(first_name,last_name, age=None):\n",
    "    \"\"\" Return a dictionary of information about a person.\"\"\"\n",
    "    if age is None:\n",
    "        persona = {\"first\" : first_name, \"last\" : last_name}\n",
    "    else:    \n",
    "        persona = {\"first\" : first_name, \"last\" : last_name, \"age\" : age}\n",
    "    return persona\n",
    "\n",
    "persona1 = build_person(\"Juan\", \"Tamariz\")\n",
    "persona2 = build_person(\"Pedro\", \"Lopez\",28)\n",
    "\n",
    "print(persona1)\n",
    "print(persona2)"
   ]
  },
  {
   "cell_type": "markdown",
   "metadata": {},
   "source": [
    "Ejercicio 27\n",
    "• Escribe una función que almacene información sobre un coche\n",
    "en un diccionario\n",
    "• La función siempre tiene que recibir la marca y el modelo del\n",
    "coche y un número arbitrario de argumentos por clave\n",
    "• Imprime el diccionario para asegurar de que ha funcionado\n",
    "correctamente"
   ]
  },
  {
   "cell_type": "code",
   "execution_count": 23,
   "metadata": {},
   "outputs": [
    {
     "name": "stdout",
     "output_type": "stream",
     "text": [
      "{'marca': 'Saab', 'modelo': '9-3', 'combustible': 'Diesel', 'formato': 'Sedan', 'potentia': '150cv'}\n"
     ]
    }
   ],
   "source": [
    "def coche(marca,modelo,**coche_info):\n",
    "    \"\"\"Return the caracteristics of the car\"\"\"\n",
    "    coche_tipo = {}\n",
    "    coche_tipo[\"marca\"] = marca\n",
    "    coche_tipo[\"modelo\"] = modelo\n",
    "    \n",
    "    for key,value in coche_info.items():\n",
    "        coche_tipo[key] = value\n",
    "    return coche_tipo\n",
    "\n",
    "mi_coche = coche(\"Saab\",\"9-3\",combustible = \"Diesel\",formato = \"Sedan\",potentia = \"150cv\")\n",
    "\n",
    "print(mi_coche)"
   ]
  },
  {
   "cell_type": "markdown",
   "metadata": {},
   "source": [
    "Ejercicio 28\n",
    "• Escribe un módulo llamado printing_functions que incluya\n",
    "una función llamada print_hello() cuyo propósito es imprimir\n",
    "la frase «Hola Mundo!»\n",
    "• En el programa principal llama a la función utilizando las\n",
    "siguientes alternativas:\n",
    "–\n",
    "–\n",
    "–\n",
    "–\n",
    "–\n",
    "import module_name\n",
    "from module_name import function_name\n",
    "from module_name import function_name as fn\n",
    "import module_name as mn\n",
    "from module_name import *"
   ]
  },
  {
   "cell_type": "code",
   "execution_count": 1,
   "metadata": {},
   "outputs": [
    {
     "name": "stdout",
     "output_type": "stream",
     "text": [
      "Hello world!\n"
     ]
    }
   ],
   "source": [
    "import printing_functions\n",
    "from printing_functions import print_hello\n",
    "from printing_functions import print_hello as ph\n",
    "import printing_functions as pf\n",
    "from printing_functions import *"
   ]
  },
  {
   "cell_type": "markdown",
   "metadata": {
    "collapsed": true
   },
   "source": [
    "Ejercicio 29\n",
    "• Crea una clase para un restaurante\n",
    "• Tiene que almacenar el nombre del restaurante y el tipo de\n",
    "cocina\n",
    "• Crea un método que imprima información sobre el\n",
    "restaurante, su nombre y el tipo de cocina\n",
    "• Crea tres tipos de restaurantes distintos utilizando la clase\n",
    "restaurante"
   ]
  },
  {
   "cell_type": "code",
   "execution_count": 9,
   "metadata": {},
   "outputs": [
    {
     "name": "stdout",
     "output_type": "stream",
     "text": [
      "Restaurante Casa Fidel donde puedo comer cocina tradicional\n",
      "Restaurante Casa Hortensia donde puedo comer cocina asturiana\n",
      "Restaurante Triciclo donde puedo comer cocina de autor\n"
     ]
    }
   ],
   "source": [
    "class restaurante():\n",
    "    \"\"\"Creating a class named restaurant which saved the data about several restaurants\"\"\"\n",
    "    def __init__(self,name,cocina):\n",
    "        \"\"\"Name of the restaurant and type of food\"\"\"\n",
    "        self.name = name\n",
    "        self.cocina = cocina\n",
    "    def info(self):\n",
    "        \"\"\"Print restaurant information\"\"\"\n",
    "        print(\"Restaurante \" + self.name.title() + \" donde puedo comer cocina \" + self.cocina)\n",
    "        \n",
    "rest1 = restaurante(\"Casa fidel\", \"tradicional\")\n",
    "rest2 = restaurante(\"Casa hortensia\", \"asturiana\")\n",
    "rest3 = restaurante(\"triciclo\", \"de autor\")\n",
    "\n",
    "rest1.info()\n",
    "rest2.info()\n",
    "rest3.info()"
   ]
  },
  {
   "cell_type": "markdown",
   "metadata": {},
   "source": [
    "Ejercicio 30\n",
    "• Modifica la clase restaurante del ejercicio anterior,\n",
    "añadiéndole un atributo para almacenar el número de clientes\n",
    "• Modifica el método que imprime información sobre el\n",
    "restaurante para que incluya el número de clientes\n",
    "• Crea un nuevo método que te permita establecer el número de\n",
    "clientes y otro método que te permita incrementarlos\n",
    "• Crea una instancia de la clase y prueba estos cambios"
   ]
  },
  {
   "cell_type": "code",
   "execution_count": 48,
   "metadata": {},
   "outputs": [
    {
     "name": "stdout",
     "output_type": "stream",
     "text": [
      "Restaurante Navaja donde puedo comer cocina \n",
      "Restaurante Navaja tiene registrados 120 clientes\n",
      "Restaurante Navaja donde puedo comer cocina \n",
      "Restaurante Navaja tiene registrados 121 clientes\n",
      "Restaurante Navaja donde puedo comer cocina \n",
      "Restaurante Navaja tiene registrados 250 clientes\n"
     ]
    }
   ],
   "source": [
    "class restaurante():\n",
    "    \"\"\"Creating a class named restaurant which saved the data about several restaurants\"\"\"\n",
    "    def __init__(self,name,cocina,clientes):\n",
    "        \"\"\"Name of the restaurant and type of food\"\"\"\n",
    "        self.name = name\n",
    "        self.cocina = cocina\n",
    "        self.clientes = clientes\n",
    "    def info(self):\n",
    "        \"\"\"Print restaurant information\"\"\"\n",
    "        print(\"Restaurante \" + self.name.title() + \" donde puedo comer cocina \")\n",
    "        print(\"Restaurante \" + self.name.title() + \" tiene registrados \" + str(self.clientes) + \" clientes\")\n",
    "    def inc_clientes(self,clientes = 1):\n",
    "        \"\"\"Increasing the number of customers\"\"\"\n",
    "        self.clientes = self.clientes + 1\n",
    "    def set_clientes(self, clientes=1):\n",
    "        \"\"\"Establish the number of customers\"\"\"\n",
    "        self.clientes = clientes\n",
    "        \n",
    "rest1 = restaurante(\"navaja\",\"gallega\", 120)\n",
    "rest1.info()\n",
    "rest1.inc_clientes()\n",
    "rest1.info()\n",
    "rest1.set_clientes(250)\n",
    "rest1.info()"
   ]
  },
  {
   "cell_type": "markdown",
   "metadata": {
    "collapsed": true
   },
   "source": [
    "Ejercicio 31\n",
    "• Un puesto de helados es un tipo específico de restaurante.\n",
    "Crea una clase que herede de la clase Restaurante del ejercicio\n",
    "anterior.\n",
    "• Crea una propiedad nueva con todos los sabores de helados\n",
    "del que dispone el restaurante\n",
    "• Modifica el método que imprime información del restaurante\n",
    "para incluir la información relativa a los sabores del punto\n",
    "anterior"
   ]
  },
  {
   "cell_type": "code",
   "execution_count": 146,
   "metadata": {},
   "outputs": [
    {
     "name": "stdout",
     "output_type": "stream",
     "text": [
      "Restaurante Piamonte donde puedo comer cocina \n",
      "Restaurante Piamonte tiene registrados 120 clientes\n",
      "\n",
      "En la heladeria Piamonte puedes encontrar los siguientes sabores: \n",
      "\t - Chocolate\n",
      "\t - fresa\n",
      "\t - Vainilla\n",
      "\t - Menta\n"
     ]
    }
   ],
   "source": [
    "class restaurante():\n",
    "    \"\"\"Creating a class named restaurant which saved the data about several restaurants\"\"\"\n",
    "    def __init__(self,name,cocina,clientes):\n",
    "        \"\"\"Name of the restaurant and type of food\"\"\"\n",
    "        self.name = name\n",
    "        self.cocina = cocina\n",
    "        self.clientes = clientes\n",
    "    def info(self):\n",
    "        \"\"\"Print restaurant information\"\"\"\n",
    "        print(\"Restaurante \" + self.name.title() + \" donde puedo comer cocina \")\n",
    "        print(\"Restaurante \" + self.name.title() + \" tiene registrados \" + str(self.clientes) + \" clientes\")\n",
    "class Heladeria(restaurante):\n",
    "    \"\"\"Initialize attributes of the parent class and and one : flavor\"\"\"\n",
    "    def __init__(self,name,cocina,clientes,flavor):\n",
    "        super().__init__(name,cocina,clientes)\n",
    "        self.flavor = flavor\n",
    "    def info(self):\n",
    "        \"\"\"Initialize info of the parent class and and one\"\"\"\n",
    "        super().info()\n",
    "        print(\"\\nEn la heladeria \" + self.name.title() + \" puedes encontrar los siguientes sabores: \")\n",
    "        \"\"\"Allows to have an undetermined number of flavors\"\"\"\n",
    "        for flavors in self.flavor:\n",
    "            print(\"\\t - \" + flavors)\n",
    "heladeria1=Heladeria(\"piamonte\",\"heladeria\",120,[\"Chocolate\",\"fresa\",\"Vainilla\",\"Menta\"])\n",
    "heladeria1.info()"
   ]
  },
  {
   "cell_type": "markdown",
   "metadata": {},
   "source": [
    "Ejercicio 32\n",
    "• Crea un módulo con las clases del restaurante y el puesto de\n",
    "helados\n",
    "• Prueba los distintos métodos de importar estas clases\n",
    "• Utiliza el comando help() para verificar el módulo donde se\n",
    "encuentra la clase"
   ]
  },
  {
   "cell_type": "code",
   "execution_count": 3,
   "metadata": {},
   "outputs": [
    {
     "name": "stdout",
     "output_type": "stream",
     "text": [
      "Help on class Heladeria in module Restauration:\n",
      "\n",
      "class Heladeria(Restaurante)\n",
      " |  Initialize attributes of the parent class and and one : flavor\n",
      " |  \n",
      " |  Method resolution order:\n",
      " |      Heladeria\n",
      " |      Restaurante\n",
      " |      builtins.object\n",
      " |  \n",
      " |  Methods defined here:\n",
      " |  \n",
      " |  __init__(self, name, cocina, clientes, flavor)\n",
      " |      Name of the restaurant and type of food\n",
      " |  \n",
      " |  info(self)\n",
      " |      Initialize info of the parent class and and one\n",
      " |  \n",
      " |  ----------------------------------------------------------------------\n",
      " |  Data descriptors inherited from Restaurante:\n",
      " |  \n",
      " |  __dict__\n",
      " |      dictionary for instance variables (if defined)\n",
      " |  \n",
      " |  __weakref__\n",
      " |      list of weak references to the object (if defined)\n",
      "\n"
     ]
    }
   ],
   "source": [
    "import Restauration\n",
    "from Restauration import Restaurante\n",
    "from Restauration import *\n",
    "from Restauration import Restaurante,Heladeria\n",
    "help(Heladeria)"
   ]
  },
  {
   "cell_type": "markdown",
   "metadata": {},
   "source": [
    "Ejercicio 33\n",
    "• El módulo random de la librería estándar de Python\n",
    "proporciona funciones para generar funciones aleatorias\n",
    "• Crea una clase Dado que contenga un atributo con el número\n",
    "de caras (por defecto a 6)\n",
    "• La clase debe de tener una función para lanzar el dado que de\n",
    "devuelve un número entre 1 y el número de caras\n",
    "• Crea un objeto con un dado de 2 caras y lanza el dado 10\n",
    "veces, imprimiendo el resultado."
   ]
  },
  {
   "cell_type": "code",
   "execution_count": 38,
   "metadata": {},
   "outputs": [
    {
     "name": "stdout",
     "output_type": "stream",
     "text": [
      "Tirada: 1 resultado: 2\n",
      "Tirada: 2 resultado: 1\n",
      "Tirada: 3 resultado: 1\n",
      "Tirada: 4 resultado: 2\n",
      "Tirada: 5 resultado: 2\n",
      "Tirada: 6 resultado: 2\n",
      "Tirada: 7 resultado: 2\n",
      "Tirada: 8 resultado: 2\n",
      "Tirada: 9 resultado: 2\n",
      "Tirada: 10 resultado: 1\n"
     ]
    }
   ],
   "source": [
    "#El módulo random de la librería estándar de Python proporciona funciones para generar funciones aleatorias\n",
    "import random\n",
    "class Dado():\n",
    "    \"\"\"initialization of the parameters\"\"\"\n",
    "    def __init__(self,face=6,NdeTirada=0):\n",
    "        self.face = face\n",
    "        self.NdeTirada = NdeTirada\n",
    "#La clase debe de tener una función para lanzar el dado que de devuelve un número entre 1 y el número de caras\n",
    "    def tirada(self):\n",
    "        for i in range(1,self.NdeTirada+1):\n",
    "            print(\"Tirada: \" + str(i) + \" resultado: \" + str(random.randint(1,self.face)))\n",
    "            \n",
    "#Crea un objeto con un dado de 2 caras y lanza el dado 10 veces, imprimiendo el resultado                   \n",
    "Dado2=Dado(2,10)\n",
    "Dado2.tirada()"
   ]
  },
  {
   "cell_type": "markdown",
   "metadata": {},
   "source": [
    "Ejercicio 34\n",
    "• Crea un fichero y escribe varias frases en el.\n",
    "• Escribe un programa que lea el fichero e imprima el contenido\n",
    "• Escribe otro programa que lea el fichero e imprima cada línea\n",
    "3 veces\n",
    "• Escribe otro programa que lea el contenido del fichero e\n",
    "imprima un mensaje en el caso de que la palabra ‘Python’ esté\n",
    "incluida en el fichero (podría ser que una línea terminara por\n",
    "‘Py’ y la siguiente empezara por ‘thon’)"
   ]
  },
  {
   "cell_type": "code",
   "execution_count": 25,
   "metadata": {},
   "outputs": [
    {
     "name": "stdout",
     "output_type": "stream",
     "text": [
      "Esta es la primera frase \n",
      "Segunda frase\n",
      "\n",
      "Esta es la primera frase\n",
      "Esta es la primera frase\n",
      "Esta es la primera frase\n",
      "Segunda frase\n",
      "Segunda frase\n",
      "Segunda frase\n",
      "No aperece Python en el fichero\n"
     ]
    }
   ],
   "source": [
    "filename = \"fichero\"\n",
    "with open(filename) as fichero:\n",
    "    contents = fichero.read()\n",
    "    print(contents)\n",
    "    \n",
    "filename1 = \"fichero\"\n",
    "with open(filename1) as fichero1:\n",
    "    contents = fichero1.readlines()\n",
    "    for line in contents:\n",
    "        print(line.rstrip())\n",
    "        print(line.rstrip())\n",
    "        print(line.rstrip())\n",
    "    \n",
    "    \n",
    "filename2 = \"fichero\"\n",
    "with open(filename2) as fichero2:\n",
    "    contents = fichero2.readlines()\n",
    "    if contents == \"Python\":\n",
    "        print(\"Python aparece en el fichero\")\n",
    "    else:\n",
    "        print(\"No aperece Python en el fichero\")"
   ]
  },
  {
   "cell_type": "markdown",
   "metadata": {},
   "source": [
    "Ejercicio 35\n",
    "• Escribe un programa que contenga un bucle while que\n",
    "pregunte al usuario su nombre y le de la bienvenida mediante\n",
    "un mensaje\n",
    "• Adicionalmente también se debe de grabar el nombre en un\n",
    "fichero de texto\n",
    "• Asegúrate que cada nombre esté contenido en una línea\n",
    "distinta"
   ]
  },
  {
   "cell_type": "code",
   "execution_count": 242,
   "metadata": {},
   "outputs": [
    {
     "name": "stdout",
     "output_type": "stream",
     "text": [
      "Introduce SALIR para terminar la applicacíon.\n",
      "Introduce tu nombre: Daniel\n",
      "Bienvenido Daniel!\n",
      "Introduce tu nombre: Pedro\n",
      "Bienvenido Pedro!\n",
      "Introduce tu nombre: SALIR\n",
      "Daniel\n",
      "Pedro\n",
      "\n"
     ]
    }
   ],
   "source": [
    "prompt=print(\"Introduce SALIR para terminar la applicacíon.\")\n",
    "names = []\n",
    "while True:\n",
    "    name = input(\"Introduce tu nombre: \" )\n",
    "    if name == \"SALIR\":\n",
    "        break\n",
    "    else:\n",
    "        print(\"Bienvenido \" + str(name) + \"!\" )\n",
    "        names.append(name)\n",
    "\n",
    "filename = \"fichero3\"\n",
    "with open(filename,\"w\") as fichero:\n",
    "        for name1 in names:\n",
    "            print(name1)\n",
    "with open(filename) as fichero:\n",
    "    print(fichero.read())"
   ]
  },
  {
   "cell_type": "markdown",
   "metadata": {},
   "source": [
    "Ejercicio 36\n",
    "• Realiza un programa que solicite al usuario 2 números,\n",
    "imprimiendo el resultado de la división entre ellos\n",
    "• Asegúrate de gestionar todos los errores que se pueden\n",
    "producir, como el de la división de un número por 0, o que el\n",
    "usuario introduzca letras en lugar de números\n",
    "• Escribe un bucle de forma que el usuario tiene que volver a\n",
    "introducir los números en caso de algún error"
   ]
  },
  {
   "cell_type": "code",
   "execution_count": 203,
   "metadata": {},
   "outputs": [
    {
     "name": "stdout",
     "output_type": "stream",
     "text": [
      "Introduce 2 numeros para dividirlos\n",
      "Introduce SALIR para terminar\n",
      "Primer numero: 20\n",
      "Second numero: 0\n",
      "No se puede dividir por 0\n",
      "Primer numero: a\n",
      "Second numero: b\n",
      "No se puede dividir por 0\n",
      "Primer numero: a\n",
      "Second numero: SALIR\n"
     ]
    }
   ],
   "source": [
    "print(\"Introduce 2 numeros para dividirlos\")\n",
    "print(\"Introduce SALIR para terminar\")\n",
    "while True:\n",
    "    first = input(\"Primer numero: \")\n",
    "    if first == \"SALIR\":\n",
    "        break\n",
    "    second = input(\"Second numero: \")\n",
    "    if second == \"SALIR\":\n",
    "        break\n",
    "    try:\n",
    "        answer = int(first) / int(second)\n",
    "    except (ZeroDivisionError,ValueError):\n",
    "        pass\n",
    "        print(\"No se puede dividir por 0\")\n",
    "    else:\n",
    "        print(answer)"
   ]
  },
  {
   "cell_type": "markdown",
   "metadata": {},
   "source": [
    "Ejercicio 37\n",
    "• Escribe un programa que pregunte al usuario cual es su\n",
    "número favorito y su nombre\n",
    "• Almacena estos datos en un fichero\n",
    "• Antes de finalizar recupera los datos del fichero e imprime el\n",
    "contenido"
   ]
  },
  {
   "cell_type": "code",
   "execution_count": 179,
   "metadata": {},
   "outputs": [
    {
     "name": "stdout",
     "output_type": "stream",
     "text": [
      "\n",
      "Dime tu nombre: Daniel\n",
      "Daniel dime tu numero favorito: Trece\n",
      "Solo puede introducir numeros \n",
      "\n",
      "Dime tu nombre: Daniel\n",
      "Daniel dime tu numero favorito: 13\n",
      "\n",
      "Dime tu nombre: Lola\n",
      "Lola dime tu numero favorito: 13\n",
      "\n",
      "Dime tu nombre: SALIR\n",
      "Datos guardados!\n",
      "El numero favorito de Daniel es 13\n",
      "El numero favorito de Lola es 13\n"
     ]
    }
   ],
   "source": [
    "import json\n",
    "names=[]\n",
    "numbers=[]\n",
    "datos = {}\n",
    "while True:\n",
    "    name=input(\"\\nDime tu nombre: \")\n",
    "    if name == \"SALIR\":\n",
    "        break\n",
    "    else:\n",
    "        names.append(name) \n",
    "    number = input(name + \" dime tu numero favorito: \")\n",
    "    try:\n",
    "        number = int(number)\n",
    "        numbers.append(number)\n",
    "    except (ValueError,TypeError):\n",
    "            pass\n",
    "            names.pop()\n",
    "            print(\"Solo puede introducir numeros \")\n",
    "\n",
    "for i in range(len(names)):\n",
    "    datos[names[i]] = numbers[i]\n",
    "\n",
    "print(\"Datos guardados!\")\n",
    "\n",
    "filename = \"datos.json\"\n",
    "with open(filename,\"w\") as fichero:\n",
    "    json.dump(datos,fichero)\n",
    "\n",
    "filename = \"datos.json\"\n",
    "with open(filename) as fichero:\n",
    "    datos1 = json.load(fichero)\n",
    "    \n",
    "for name,number in datos1.items():\n",
    "    print(\"El numero favorito de \" + name + \" es \" + str(number))"
   ]
  },
  {
   "cell_type": "markdown",
   "metadata": {},
   "source": [
    "### Ejercicio 38\n",
    "• Escribe una función denominada get_formatted_name() que\n",
    "acepte 2 parámetros: un nombre y el primer apellido\n",
    "• La función debe devolver una cadena con el formato: Nombre,\n",
    "Primer Apellido (por ejemplo: Antonio, Lopez)\n",
    "• Crea un caso de prueba con una prueba unitaria para verificar\n",
    "que la funcionalidad es correcta"
   ]
  },
  {
   "cell_type": "code",
   "execution_count": 118,
   "metadata": {},
   "outputs": [
    {
     "name": "stderr",
     "output_type": "stream",
     "text": [
      "."
     ]
    },
    {
     "name": "stdout",
     "output_type": "stream",
     "text": [
      "Alexandre,Casula\n"
     ]
    },
    {
     "name": "stderr",
     "output_type": "stream",
     "text": [
      "\n",
      "----------------------------------------------------------------------\n",
      "Ran 1 test in 0.001s\n",
      "\n",
      "OK\n"
     ]
    },
    {
     "data": {
      "text/plain": [
       "<unittest.runner.TextTestResult run=1 errors=0 failures=0>"
      ]
     },
     "execution_count": 118,
     "metadata": {},
     "output_type": "execute_result"
    }
   ],
   "source": [
    "def get_formatted_name(first,last):\n",
    "    \"\"\"Funcion that allows the user to write down his name\"\"\"\n",
    "    full_name = first + \",\" + last\n",
    "    return full_name.title()\n",
    "\n",
    "import unittest\n",
    "\n",
    "class NamesTestCase(unittest.TestCase):\n",
    "    \"\"\"Testing name\"\"\"\n",
    "    \n",
    "    def test_first_last_name(self):\n",
    "        formatted_name = get_formatted_name(\"Inés\",\"Arrimadas\")\n",
    "        self.assertEqual(formatted_name,\"Inés,Arrimadas\")\n",
    "\n",
    "print(get_formatted_name(\"Alexandre\",\"CASULA\"))\n",
    "\n",
    "# unittest.main(argv=['first-arg-is-ignored'], exit=False) with IPython\n",
    "\n",
    "suite = unittest.TestLoader().loadTestsFromTestCase(NamesTestCase)\n",
    "unittest.TextTestRunner().run(suite)"
   ]
  },
  {
   "cell_type": "markdown",
   "metadata": {},
   "source": [
    "Ejercicio 39\n",
    "• Modifica la función de forma que acepte un tercer parámetro\n",
    "opcional con la edad, devolviendo la cadena Nombre, Apellido\n",
    "(Edad)\n",
    "• Añade una prueba unitaria que verifique la nueva\n",
    "funcionalidad\n",
    "• Asegúrate que el caso anterior sigue funcionando!"
   ]
  },
  {
   "cell_type": "code",
   "execution_count": 119,
   "metadata": {},
   "outputs": [
    {
     "name": "stderr",
     "output_type": "stream",
     "text": [
      ".."
     ]
    },
    {
     "name": "stdout",
     "output_type": "stream",
     "text": [
      "Alexandre,Casula\n",
      "Alexandre,Casula (16)\n"
     ]
    },
    {
     "name": "stderr",
     "output_type": "stream",
     "text": [
      "\n",
      "----------------------------------------------------------------------\n",
      "Ran 2 tests in 0.003s\n",
      "\n",
      "OK\n"
     ]
    },
    {
     "data": {
      "text/plain": [
       "<unittest.runner.TextTestResult run=2 errors=0 failures=0>"
      ]
     },
     "execution_count": 119,
     "metadata": {},
     "output_type": "execute_result"
    }
   ],
   "source": [
    "def get_formatted_name(first,last,age=\"\"):\n",
    "    \"\"\"Funcion that allows the user to write down his name + age\"\"\"\n",
    "    if age:\n",
    "        full_name = first + \",\" + last + \" (\" + str(age) + \")\"\n",
    "    else:\n",
    "        full_name = first + \",\" + last\n",
    "    return full_name.title()\n",
    "\n",
    "import unittest\n",
    "\n",
    "class NamesTestCase(unittest.TestCase):\n",
    "    \"\"\"Do names like 'Inés Arrimadas' work?\"\"\"\n",
    "    \n",
    "    def test_first_last_name(self):\n",
    "        formatted_name = get_formatted_name(\"Inés\",\"Arrimadas\")\n",
    "        self.assertEqual(formatted_name,\"Inés,Arrimadas\")\n",
    "        \n",
    "    def test_age(self):\n",
    "        \"\"\"Do names like 'Inés Arrimadas (36)' work?\"\"\"\n",
    "        formatted_name = get_formatted_name(\"Inés\",\"Arrimadas\",(36))\n",
    "        self.assertEqual(formatted_name,\"Inés,Arrimadas (36)\")\n",
    " \n",
    "print(get_formatted_name(\"Alexandre\",\"CASULA\"))\n",
    "print(get_formatted_name(\"Alexandre\",\"CASULA\",16))\n",
    "\n",
    "suite = unittest.TestLoader().loadTestsFromTestCase(NamesTestCase)\n",
    "unittest.TextTestRunner().run(suite)"
   ]
  },
  {
   "cell_type": "markdown",
   "metadata": {},
   "source": [
    "Ejercicio 40\n",
    "• Crea una lista de números del 1 al 10 y asígnala a la variable\n",
    "numbers\n",
    "• Aplica una función map para transformar numbers en otra lista\n",
    "de números del 16 al 25\n",
    "• Aplica una función map para transformar la lista numbers en\n",
    "otra lista del tipo [(1, 1), (2, 1), ..., (10, 1)]\n",
    "• Aplica una función filter para obtener otra lista sólo con los\n",
    "números menores o iguales que 5\n",
    "• Mediante la función reduce multiplica entre si todos los\n",
    "elementos de la lista numbers (debería de darte el valor de\n",
    "3.628.800 )"
   ]
  },
  {
   "cell_type": "code",
   "execution_count": 52,
   "metadata": {},
   "outputs": [
    {
     "name": "stdout",
     "output_type": "stream",
     "text": [
      "[1, 2, 3, 4, 5, 6, 7, 8, 9, 10]\n",
      "[16, 17, 18, 19, 20, 21, 22, 23, 24, 25]\n",
      "[(1, 1), (2, 1), (3, 1), (4, 1), (5, 1), (6, 1), (7, 1), (8, 1), (9, 1), (10, 1)]\n",
      "[1, 2, 3, 4, 5]\n",
      "3628800\n"
     ]
    }
   ],
   "source": [
    "from functools import reduce\n",
    "numbers = list(range(1,11))\n",
    "print(numbers)\n",
    "new_list1 = list(map(lambda x: x+15,numbers))\n",
    "print(new_list1)\n",
    "new_list2 = list(map(lambda x: (x,1), numbers))\n",
    "print(new_list2)\n",
    "new_list3 = list(filter(lambda x: x<=5, numbers))\n",
    "print(new_list3)\n",
    "new_list4 = reduce((lambda x,y:x*y),numbers)\n",
    "print(new_list4)"
   ]
  }
 ],
 "metadata": {
  "kernelspec": {
   "display_name": "Python 3",
   "language": "python",
   "name": "python3"
  },
  "language_info": {
   "codemirror_mode": {
    "name": "ipython",
    "version": 3
   },
   "file_extension": ".py",
   "mimetype": "text/x-python",
   "name": "python",
   "nbconvert_exporter": "python",
   "pygments_lexer": "ipython3",
   "version": "3.6.3"
  }
 },
 "nbformat": 4,
 "nbformat_minor": 1
}
